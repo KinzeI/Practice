{
 "cells": [
  {
   "cell_type": "markdown",
   "metadata": {},
   "source": [
    "# Практическая работа 7"
   ]
  },
  {
   "cell_type": "markdown",
   "metadata": {},
   "source": [
    "## Задача 1"
   ]
  },
  {
   "cell_type": "code",
   "execution_count": 6,
   "metadata": {},
   "outputs": [
    {
     "name": "stdout",
     "output_type": "stream",
     "text": [
      "4\n",
      "5\n",
      "6\n",
      "6\n",
      "4\n"
     ]
    }
   ],
   "source": [
    "a,b,c,d=int(input()),int(input()),int(input()),int(input())\n",
    "def min4(a,b,c,d):\n",
    "    return min(min(a,b),min(c,d))\n",
    "print(min4(a,b,c,d))"
   ]
  },
  {
   "cell_type": "markdown",
   "metadata": {},
   "source": [
    "## Задача 2"
   ]
  },
  {
   "cell_type": "code",
   "execution_count": 10,
   "metadata": {},
   "outputs": [
    {
     "name": "stdout",
     "output_type": "stream",
     "text": [
      "3\n",
      "-2\n",
      "-1\n",
      "7\n",
      "9.848857801796104\n"
     ]
    }
   ],
   "source": [
    "x1,y1=float(input()),float(input())\n",
    "x2,y2=float(input()),float(input())\n",
    "def distance(x1,y1,x2,y2):\n",
    "    return ((x2-x1)**2+(y2-y1)**2)**.5\n",
    "print (distance(x1,y1,x2,y2))"
   ]
  },
  {
   "cell_type": "markdown",
   "metadata": {},
   "source": [
    "## Задача 3"
   ]
  },
  {
   "cell_type": "code",
   "execution_count": 13,
   "metadata": {},
   "outputs": [
    {
     "name": "stdout",
     "output_type": "stream",
     "text": [
      "6\n",
      "5\n",
      "2\n",
      "-3\n",
      "-1\n",
      "-6\n",
      "26.22531740752374\n"
     ]
    }
   ],
   "source": [
    "x1,y1=int(input()),int(input())\n",
    "x2,y2=int(input()),int(input())\n",
    "x3,y3=int(input()),int(input())\n",
    "def distance(x1,y1,x2,y2):\n",
    "    return ((x2-x1)**2+(y2-y1)**2)**.5\n",
    "L=distance(x1,y1,x2,y2)+distance(x2,y2,x3,y3)+distance(x1,y1,x3,y3)\n",
    "print(L)"
   ]
  },
  {
   "cell_type": "markdown",
   "metadata": {},
   "source": [
    "## Задача 4"
   ]
  },
  {
   "cell_type": "code",
   "execution_count": 16,
   "metadata": {},
   "outputs": [
    {
     "name": "stdout",
     "output_type": "stream",
     "text": [
      "0.5\n",
      "0.5\n",
      "YES\n"
     ]
    }
   ],
   "source": [
    "x,y=float(input()),float(input())\n",
    "def IsPointInSquare(x,y):\n",
    "    return abs(x)<=1 and abs(y)<=1\n",
    "if IsPointInSquare(x,y):\n",
    "    print('YES')\n",
    "else:\n",
    "    print('NO')"
   ]
  },
  {
   "cell_type": "markdown",
   "metadata": {},
   "source": [
    "## Задача 5"
   ]
  },
  {
   "cell_type": "code",
   "execution_count": 19,
   "metadata": {},
   "outputs": [
    {
     "name": "stdout",
     "output_type": "stream",
     "text": [
      "-1\n",
      "-1\n",
      "NO\n"
     ]
    }
   ],
   "source": [
    "x,y=float(input()),float(input())\n",
    "def IsPointInSquare(x,y):\n",
    "    return abs(x)+abs(y)<=1\n",
    "if IsPointInSquare(x,y):\n",
    "    print('YES')\n",
    "else:\n",
    "    print('NO')"
   ]
  },
  {
   "cell_type": "markdown",
   "metadata": {},
   "source": [
    "## Задача 6"
   ]
  },
  {
   "cell_type": "code",
   "execution_count": 22,
   "metadata": {},
   "outputs": [
    {
     "name": "stdout",
     "output_type": "stream",
     "text": [
      "0\n",
      "0\n",
      "1\n",
      "0\n",
      "1\n",
      "YES\n"
     ]
    }
   ],
   "source": [
    "def IsPointInCircle(x, y, xc, yc, r):\n",
    "    return (x-xc)**2+(y-yc)**2<=r**2\n",
    "x,y=float(input()),float(input())\n",
    "xc,yc=float(input()),float(input())\n",
    "r=float(input())\n",
    "if IsPointInCircle(x, y, xc, yc, r):\n",
    "    print('YES')\n",
    "else:\n",
    "    print('NO')"
   ]
  },
  {
   "cell_type": "markdown",
   "metadata": {},
   "source": [
    "## Задача 7"
   ]
  },
  {
   "cell_type": "code",
   "execution_count": 39,
   "metadata": {},
   "outputs": [
    {
     "name": "stdout",
     "output_type": "stream",
     "text": [
      "0\n",
      "-5\n",
      "YES\n"
     ]
    }
   ],
   "source": [
    "def IsPointInArea(x, y):\n",
    "    return (((x+1)**2+(y-1)**2)<4 and 2*x+2<y and -x<y)or(((x+1)**2+(y-1)**2)>4 and 2*x+2>y and -x>y)\n",
    "x,y=float(input()),float(input())\n",
    "if IsPointInArea(x, y):\n",
    "    print('YES')\n",
    "else:\n",
    "    print('NO')"
   ]
  },
  {
   "cell_type": "markdown",
   "metadata": {},
   "source": [
    "## Задача 8"
   ]
  },
  {
   "cell_type": "code",
   "execution_count": 44,
   "metadata": {},
   "outputs": [
    {
     "name": "stdout",
     "output_type": "stream",
     "text": [
      "1\n",
      "1\n",
      "0\n"
     ]
    }
   ],
   "source": [
    "def xor(x,y):\n",
    "    return (x+y)%2!=0\n",
    "x=int(input())\n",
    "y=int(input())\n",
    "if xor(x,y):\n",
    "    print(1)\n",
    "else:\n",
    "    print(0)"
   ]
  },
  {
   "cell_type": "markdown",
   "metadata": {},
   "source": [
    "## Задача 9"
   ]
  },
  {
   "cell_type": "code",
   "execution_count": 6,
   "metadata": {},
   "outputs": [
    {
     "name": "stdout",
     "output_type": "stream",
     "text": [
      "3\n",
      "3\n"
     ]
    }
   ],
   "source": [
    "def MinDivisor(n):\n",
    "    i=2\n",
    "    while(i<=n):\n",
    "        if (n/i)//1==n/i:\n",
    "            return i\n",
    "        i+=1;\n",
    "n=int(input())\n",
    "print(MinDivisor(n))"
   ]
  },
  {
   "cell_type": "markdown",
   "metadata": {},
   "source": [
    "## Задача 10"
   ]
  },
  {
   "cell_type": "code",
   "execution_count": 9,
   "metadata": {},
   "outputs": [
    {
     "name": "stdout",
     "output_type": "stream",
     "text": [
      "3\n",
      "YES\n"
     ]
    }
   ],
   "source": [
    "def IsPrime(n):\n",
    "    i=2\n",
    "    while n%i!=0:\n",
    "        i+=1\n",
    "    return i==n\n",
    "n=int(input())\n",
    "if(IsPrime(n)):\n",
    "    print('YES')\n",
    "else:\n",
    "    print('NO')"
   ]
  },
  {
   "cell_type": "markdown",
   "metadata": {},
   "source": [
    "## Задача 11"
   ]
  },
  {
   "cell_type": "code",
   "execution_count": 13,
   "metadata": {},
   "outputs": [
    {
     "name": "stdout",
     "output_type": "stream",
     "text": [
      "2\n",
      "3\n",
      "8\n"
     ]
    }
   ],
   "source": [
    "a=float(input())\n",
    "n=int(input())\n",
    "def power(a,n):\n",
    "    if n==0:\n",
    "        return 1\n",
    "    else:\n",
    "        return a*power(a,n-1)\n",
    "print(int(power(a,n)))"
   ]
  },
  {
   "cell_type": "markdown",
   "metadata": {},
   "source": [
    "## Задача 12"
   ]
  },
  {
   "cell_type": "code",
   "execution_count": 16,
   "metadata": {},
   "outputs": [
    {
     "name": "stdout",
     "output_type": "stream",
     "text": [
      "2\n",
      "3\n",
      "8\n"
     ]
    }
   ],
   "source": [
    "a=float(input())\n",
    "n=int(input())\n",
    "def power(a,n):\n",
    "    an=1\n",
    "    i=0\n",
    "    while i<n:\n",
    "        an*=a\n",
    "        i+=1\n",
    "    return an\n",
    "print(int(power(a,n)))"
   ]
  },
  {
   "cell_type": "markdown",
   "metadata": {},
   "source": [
    "## Задача 13"
   ]
  },
  {
   "cell_type": "code",
   "execution_count": 18,
   "metadata": {},
   "outputs": [
    {
     "name": "stdout",
     "output_type": "stream",
     "text": [
      "123\n",
      "456\n",
      "579\n"
     ]
    }
   ],
   "source": [
    "def summa(a,b):\n",
    "    a += 1\n",
    "    b -= 1\n",
    "    if b > 0:\n",
    "        return summa(a, b)\n",
    "    else:\n",
    "        return a\n",
    "a,b=int(input()),int(input())\n",
    "print(summa(a,b))"
   ]
  },
  {
   "cell_type": "markdown",
   "metadata": {},
   "source": [
    "## Задача 14"
   ]
  },
  {
   "cell_type": "code",
   "execution_count": 21,
   "metadata": {},
   "outputs": [
    {
     "name": "stdout",
     "output_type": "stream",
     "text": [
      "2\n",
      "3\n",
      "8\n"
     ]
    }
   ],
   "source": [
    "def power(a,n):\n",
    "    if n==0:\n",
    "        return 1\n",
    "    elif n==1:\n",
    "        return a\n",
    "    elif n%2!=0:\n",
    "        return a*power(a,n-1)\n",
    "    elif n%2==0:\n",
    "        return power(a*a,n/2)\n",
    "a = float(input())\n",
    "n = int(input())\n",
    "print(int(power(a, n)))"
   ]
  },
  {
   "cell_type": "markdown",
   "metadata": {},
   "source": [
    "## Задача 15"
   ]
  },
  {
   "cell_type": "code",
   "execution_count": 24,
   "metadata": {},
   "outputs": [
    {
     "name": "stdout",
     "output_type": "stream",
     "text": [
      "2\n",
      "2\n",
      "2\n"
     ]
    }
   ],
   "source": [
    "def gcd(a,b):\n",
    "    c=a%b;\n",
    "    if c==0:\n",
    "        return b\n",
    "    else:\n",
    "        return gcd(a,b)\n",
    "a,b=int(input()),int(input())\n",
    "print(gcd(a,b))"
   ]
  },
  {
   "cell_type": "markdown",
   "metadata": {},
   "source": [
    "## Задача 16"
   ]
  },
  {
   "cell_type": "code",
   "execution_count": 27,
   "metadata": {},
   "outputs": [
    {
     "name": "stdout",
     "output_type": "stream",
     "text": [
      "12\n",
      "16\n",
      "3 4\n"
     ]
    }
   ],
   "source": [
    "def ReduceFraction(n, m):\n",
    "    def gcd(n, m):\n",
    "        if m == 0:\n",
    "            return n\n",
    "        else:\n",
    "            return gcd(m,n)\n",
    "    p=n//gcd(n,m)\n",
    "    q=m//gcd(n,m)\n",
    "    return p,q\n",
    "n= int(input())\n",
    "m=int(input())\n",
    "print(*ReduceFraction(n,m))"
   ]
  },
  {
   "cell_type": "markdown",
   "metadata": {},
   "source": [
    "## Задача 17"
   ]
  },
  {
   "cell_type": "code",
   "execution_count": 6,
   "metadata": {},
   "outputs": [
    {
     "name": "stdout",
     "output_type": "stream",
     "text": [
      "3\n",
      "2\n"
     ]
    }
   ],
   "source": [
    "def phib(n):\n",
    "    if n==1 or n==2:\n",
    "        return 1\n",
    "    else:\n",
    "        return phib(n-1)+phib(n-2)\n",
    "n=int(input())\n",
    "print(phib(n))"
   ]
  },
  {
   "cell_type": "markdown",
   "metadata": {},
   "source": [
    "## Задача 18"
   ]
  },
  {
   "cell_type": "code",
   "execution_count": 4,
   "metadata": {},
   "outputs": [
    {
     "name": "stdout",
     "output_type": "stream",
     "text": [
      "4\n",
      "1\n",
      "4\n"
     ]
    }
   ],
   "source": [
    "def c(n, k):\n",
    "    if k==n or k==0:\n",
    "        return 1\n",
    "    return c(n-1,k) + c(n-1,k-1)\n",
    "n, k = int(input()), int(input())\n",
    "print(c(n, k))"
   ]
  },
  {
   "cell_type": "markdown",
   "metadata": {},
   "source": [
    "## Задача 19"
   ]
  },
  {
   "cell_type": "code",
   "execution_count": 3,
   "metadata": {},
   "outputs": [
    {
     "name": "stdout",
     "output_type": "stream",
     "text": [
      "34\n",
      "2345\n",
      "2345\n",
      "2345\n",
      "2345\n",
      "345\n",
      "3\n",
      "345\n",
      "3\n",
      "345\n",
      "1\n",
      "3\n",
      "424\n",
      "5\n",
      "453\n",
      "0\n",
      "11341\n"
     ]
    }
   ],
   "source": [
    "def summ():\n",
    "    n=int(input())\n",
    "    if n==0:\n",
    "        return 0\n",
    "    return n+summ()\n",
    "print(summ())"
   ]
  },
  {
   "cell_type": "markdown",
   "metadata": {},
   "source": [
    "## Задача 20"
   ]
  },
  {
   "cell_type": "code",
   "execution_count": 8,
   "metadata": {},
   "outputs": [
    {
     "name": "stdout",
     "output_type": "stream",
     "text": [
      "8\n",
      "7\n",
      "2\n",
      "3\n",
      "1\n",
      "4\n",
      "5\n",
      "0\n",
      "0\n",
      "5\n",
      "4\n",
      "1\n",
      "3\n",
      "2\n",
      "7\n",
      "8\n"
     ]
    }
   ],
   "source": [
    "def obrat():\n",
    "    n=int(input())\n",
    "    if n!=0:\n",
    "        obrat()\n",
    "    print(n)\n",
    "obrat()"
   ]
  },
  {
   "cell_type": "markdown",
   "metadata": {},
   "source": [
    "## Задача 21"
   ]
  },
  {
   "cell_type": "code",
   "execution_count": 10,
   "metadata": {},
   "outputs": [
    {
     "name": "stdout",
     "output_type": "stream",
     "text": [
      "3\n",
      "1 1 3\n",
      "2 1 2\n",
      "1 3 2\n",
      "3 1 3\n",
      "1 2 1\n",
      "2 2 3\n",
      "1 1 3\n"
     ]
    }
   ],
   "source": [
    "def move(n,x,y):\n",
    "    if n==1:\n",
    "        print(1,x,y)\n",
    "    else:\n",
    "        move(n-1,x,6-x-y)\n",
    "        print(n, x, y)\n",
    "        move(n-1,6-x-y,y)\n",
    "n=int(input())\n",
    "move(n,1,3)"
   ]
  },
  {
   "cell_type": "markdown",
   "metadata": {},
   "source": [
    "## Задача 22"
   ]
  },
  {
   "cell_type": "code",
   "execution_count": 27,
   "metadata": {},
   "outputs": [
    {
     "name": "stdout",
     "output_type": "stream",
     "text": [
      "3\n",
      "1\n",
      "1\n",
      "1\n"
     ]
    }
   ],
   "source": [
    "def lagrange(n):\n",
    "    for i in range(4):\n",
    "        s=int(n**.5)\n",
    "        n=n-s**2\n",
    "        if s!=0:\n",
    "            print(s)\n",
    "n=int(input())\n",
    "lagrange(n)"
   ]
  },
  {
   "cell_type": "markdown",
   "metadata": {},
   "source": [
    "## Задача 23"
   ]
  },
  {
   "cell_type": "code",
   "execution_count": 34,
   "metadata": {},
   "outputs": [
    {
     "name": "stdout",
     "output_type": "stream",
     "text": [
      "22\n",
      "0\n"
     ]
    }
   ],
   "source": [
    "def kub(n):\n",
    "    st=''\n",
    "    for i in range(7):\n",
    "        s=int(n**(1/3))\n",
    "        n=n-s**3\n",
    "        if s!=0:\n",
    "            st+=str(s**3)+' '\n",
    "    if n==0:\n",
    "        print(st)\n",
    "    else:\n",
    "        print(0)\n",
    "n=int(input())\n",
    "kub(n)"
   ]
  },
  {
   "cell_type": "markdown",
   "metadata": {},
   "source": [
    "## Задача 24"
   ]
  },
  {
   "cell_type": "code",
   "execution_count": 43,
   "metadata": {},
   "outputs": [
    {
     "name": "stdout",
     "output_type": "stream",
     "text": [
      "777\n",
      "66883\n",
      "0\n",
      "0\n"
     ]
    }
   ],
   "source": [
    "def sqr(t,k):\n",
    "    t+=1\n",
    "    n=int(input())\n",
    "    if n!=0:\n",
    "        sqr(t,k)\n",
    "        t-=1\n",
    "        if (n**(1/2))%1==0:\n",
    "            k+=1\n",
    "            print(n,end=' ')\n",
    "        if (t==0 and k==0):\n",
    "            print(0)\n",
    "t=0\n",
    "k=0\n",
    "sqr(t,k)"
   ]
  },
  {
   "cell_type": "code",
   "execution_count": null,
   "metadata": {},
   "outputs": [],
   "source": []
  }
 ],
 "metadata": {
  "kernelspec": {
   "display_name": "Python 3",
   "language": "python",
   "name": "python3"
  },
  "language_info": {
   "codemirror_mode": {
    "name": "ipython",
    "version": 3
   },
   "file_extension": ".py",
   "mimetype": "text/x-python",
   "name": "python",
   "nbconvert_exporter": "python",
   "pygments_lexer": "ipython3",
   "version": "3.7.6"
  }
 },
 "nbformat": 4,
 "nbformat_minor": 4
}
