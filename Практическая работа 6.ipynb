{
 "cells": [
  {
   "cell_type": "markdown",
   "metadata": {},
   "source": [
    "# Практическая работа 6"
   ]
  },
  {
   "cell_type": "markdown",
   "metadata": {},
   "source": [
    "## Задача 1"
   ]
  },
  {
   "cell_type": "code",
   "execution_count": 1,
   "metadata": {},
   "outputs": [
    {
     "name": "stdout",
     "output_type": "stream",
     "text": [
      "3\n",
      "1.3611111111111112\n"
     ]
    }
   ],
   "source": [
    "n=int(input())\n",
    "i=1\n",
    "s=0\n",
    "while i<=n:\n",
    "    s=s+(1/i**2)\n",
    "    i+=1\n",
    "print(s)"
   ]
  },
  {
   "cell_type": "markdown",
   "metadata": {},
   "source": [
    "## Задача 2"
   ]
  },
  {
   "cell_type": "code",
   "execution_count": 15,
   "metadata": {},
   "outputs": [
    {
     "name": "stdout",
     "output_type": "stream",
     "text": [
      "0.001\n",
      "0.001\n"
     ]
    }
   ],
   "source": [
    "X=str(input())\n",
    "print('0.'+X.split('.')[1])"
   ]
  },
  {
   "cell_type": "markdown",
   "metadata": {},
   "source": [
    "## Задача 3"
   ]
  },
  {
   "cell_type": "code",
   "execution_count": 18,
   "metadata": {},
   "outputs": [
    {
     "name": "stdout",
     "output_type": "stream",
     "text": [
      "3.50\n",
      "3 50\n"
     ]
    }
   ],
   "source": [
    "X=str(input())\n",
    "print(X.replace('.',' '))"
   ]
  },
  {
   "cell_type": "markdown",
   "metadata": {},
   "source": [
    "## Задача 4"
   ]
  },
  {
   "cell_type": "code",
   "execution_count": 23,
   "metadata": {},
   "outputs": [
    {
     "name": "stdout",
     "output_type": "stream",
     "text": [
      "2.7\n",
      "3\n"
     ]
    }
   ],
   "source": [
    "N=str(input())\n",
    "if int(N.split('.')[1])>=5:\n",
    "    print(int(N.split('.')[0])+1)\n",
    "else:\n",
    "    print(int(N.split('.')[0]))"
   ]
  },
  {
   "cell_type": "markdown",
   "metadata": {},
   "source": [
    "## Задача 5"
   ]
  },
  {
   "cell_type": "code",
   "execution_count": 33,
   "metadata": {},
   "outputs": [
    {
     "name": "stdout",
     "output_type": "stream",
     "text": [
      "10\n",
      "100\n",
      "0\n",
      "110 0\n"
     ]
    }
   ],
   "source": [
    "P=int(input()) #проценты\n",
    "X=int(input()) #рубли\n",
    "Y=int(input()) #копейки\n",
    "s1=X*100+Y\n",
    "s2=s1*(P/100)+s1\n",
    "print(int(s2//100), int(s2%100))"
   ]
  },
  {
   "cell_type": "markdown",
   "metadata": {},
   "source": [
    "## Задача 6"
   ]
  },
  {
   "cell_type": "code",
   "execution_count": 45,
   "metadata": {},
   "outputs": [
    {
     "name": "stdout",
     "output_type": "stream",
     "text": [
      "1\n",
      "1\n",
      "0\n",
      "1000\n",
      "11881 92\n"
     ]
    }
   ],
   "source": [
    "P=int(input()) #проценты\n",
    "X=int(input()) #рубли\n",
    "Y=int(input()) #копейки\n",
    "K=int(input()) #лет\n",
    "kop=(X*100)+Y\n",
    "for i in range(K):\n",
    "    kop+=int(kop*P/100)\n",
    "print(kop // 100, kop % 100)"
   ]
  },
  {
   "cell_type": "markdown",
   "metadata": {},
   "source": [
    "## Задача 7"
   ]
  },
  {
   "cell_type": "code",
   "execution_count": 15,
   "metadata": {},
   "outputs": [
    {
     "name": "stdout",
     "output_type": "stream",
     "text": [
      "5\n",
      "7.1\n",
      "1\n",
      "2\n",
      "3\n",
      "4\n",
      "5\n",
      "6\n",
      "24441.5\n"
     ]
    }
   ],
   "source": [
    "n=int(input())\n",
    "x=float(input())\n",
    "a1=float(input())\n",
    "P=a1\n",
    "for i in range (n):\n",
    "    a2=float(input())\n",
    "    P=P*x+a2\n",
    "j=10\n",
    "K=(int(P*j)%j)\n",
    "while K!=0:\n",
    "    j*=10\n",
    "    K=(int(P*j)%10)\n",
    "if j!=10:\n",
    "    P=((P*(j/10))//1)/(j/10)\n",
    "    print(P)\n",
    "else:\n",
    "    print(int(P))"
   ]
  },
  {
   "cell_type": "markdown",
   "metadata": {},
   "source": [
    "## Задача 8"
   ]
  },
  {
   "cell_type": "code",
   "execution_count": 35,
   "metadata": {},
   "outputs": [
    {
     "name": "stdout",
     "output_type": "stream",
     "text": [
      "1\n",
      "1\n",
      "1\n",
      "1\n",
      "1\n",
      "1\n",
      "1\n",
      "1\n",
      "1\n",
      "0\n",
      "0.0\n"
     ]
    }
   ],
   "source": [
    "x=int(input())\n",
    "inp=''\n",
    "summ=0\n",
    "while x!=0:\n",
    "    inp+=str(x)\n",
    "    summ+=x\n",
    "    x=int(input())\n",
    "    if x!=0:\n",
    "        inp+=','\n",
    "inp=inp.split(',')\n",
    "s=summ/len(inp)\n",
    "u=int(len(inp))\n",
    "for i in range(len(inp)):\n",
    "    x+=((int(inp[i])-s)**2)\n",
    "sigma=(x/(len(inp)-1))**.5\n",
    "print(sigma)"
   ]
  },
  {
   "cell_type": "markdown",
   "metadata": {},
   "source": [
    "## Задача 9"
   ]
  },
  {
   "cell_type": "code",
   "execution_count": 43,
   "metadata": {},
   "outputs": [
    {
     "name": "stdout",
     "output_type": "stream",
     "text": [
      "4\n",
      "0\n",
      "-2\n",
      "-0.7071067811865476 0.7071067811865476\n"
     ]
    }
   ],
   "source": [
    "a=float(input())\n",
    "b=float(input())\n",
    "c=float(input())\n",
    "D=b*b-4*a*c\n",
    "if D>0:\n",
    "    x1=(-b-D**.5)/(2*a)\n",
    "    x2=(-b+D**.5)/(2*a)\n",
    "    if x1==x1//1:\n",
    "        x1=int(x1)\n",
    "    if x2==x2//1:\n",
    "        x2=int(x2)\n",
    "    print(x1,x2)\n",
    "elif D==0:\n",
    "    x=-b/(2*a)\n",
    "    if x==x//1:\n",
    "        x=int(x)\n",
    "    print(x)\n",
    "else:\n",
    "    print('')"
   ]
  },
  {
   "cell_type": "markdown",
   "metadata": {},
   "source": [
    "## Задача 10"
   ]
  },
  {
   "cell_type": "code",
   "execution_count": 3,
   "metadata": {},
   "outputs": [
    {
     "name": "stdout",
     "output_type": "stream",
     "text": [
      "1\n",
      "-7.5\n",
      "3\n",
      "2 0.4239663260874824 7.076033673912518\n"
     ]
    }
   ],
   "source": [
    "a=float(input())\n",
    "b=float(input())\n",
    "c=float(input())\n",
    "D=b*b-4*a*c\n",
    "if a!=0:\n",
    "    if D>0:\n",
    "        x1=(-b-D**.5)/(2*a)\n",
    "        x2=(-b+D**.5)/(2*a)\n",
    "        if x1==x1//1:\n",
    "            x1=int(x1)\n",
    "        if x2==x2//1:\n",
    "            x2=int(x2)\n",
    "        print('2',x1,x2)\n",
    "    elif D==0:\n",
    "        x=-b/(2*a)\n",
    "        if x==x//1:\n",
    "            x=int(x)\n",
    "        print('1',x)\n",
    "    else:\n",
    "        print('0')\n",
    "else:\n",
    "    print('3')"
   ]
  },
  {
   "cell_type": "markdown",
   "metadata": {},
   "source": [
    "## Задача 11"
   ]
  },
  {
   "cell_type": "code",
   "execution_count": 48,
   "metadata": {},
   "outputs": [
    {
     "name": "stdout",
     "output_type": "stream",
     "text": [
      "3\n",
      "5\n",
      "4\n",
      "4\n",
      "11\n",
      "12\n",
      "2 1\n"
     ]
    }
   ],
   "source": [
    "a=float(input())\n",
    "b=float(input())\n",
    "c=float(input())\n",
    "d=float(input())\n",
    "e=float(input())\n",
    "f=float(input())\n",
    "y=(a*f-c*e)/(a*d-c*b)\n",
    "x=(e-b*y)/a\n",
    "if y==y//1:\n",
    "    y=int(y)\n",
    "if x==x//1:\n",
    "    x=int(x)\n",
    "print(x,y)"
   ]
  },
  {
   "cell_type": "markdown",
   "metadata": {},
   "source": [
    "## Задача 12"
   ]
  },
  {
   "cell_type": "code",
   "execution_count": 55,
   "metadata": {},
   "outputs": [
    {
     "name": "stdout",
     "output_type": "stream",
     "text": [
      "1\n",
      "1\n",
      "2\n",
      "2\n",
      "1\n",
      "2\n",
      "1 -1 1\n"
     ]
    }
   ],
   "source": [
    "a = float(input())\n",
    "b = float(input())\n",
    "c = float(input())\n",
    "d = float(input())\n",
    "e = float(input())\n",
    "f = float(input())\n",
    "if a==0 and b==0 and c==0 and d==0 and e==0 and f==0:\n",
    "    print('5')\n",
    "elif a*d==b*c and a*f==c*e:\n",
    "    if b==0 and d==0:\n",
    "        if a!=0 and c!=0:\n",
    "            x=e/a\n",
    "            if x==x//1:\n",
    "                x=int(x)\n",
    "            print('3',x)\n",
    "        elif a==0:\n",
    "            if e==0:\n",
    "                x=f/c\n",
    "                if x==x//1:\n",
    "                    x=int(x)\n",
    "                print('3',x)\n",
    "        elif c==0:\n",
    "            if f==0:\n",
    "                x=e/a\n",
    "                if x==x//1:\n",
    "                    x=int(x)\n",
    "                print('3',x)\n",
    "    elif a==0 and c==0:\n",
    "        if b!=0:\n",
    "            y=e/b\n",
    "            if y==y//1:\n",
    "                y=int(y)\n",
    "            print('4',y)\n",
    "        elif d!=0:\n",
    "            y=f/b\n",
    "            if y==y//1:\n",
    "                y=int(y)\n",
    "            print('4', y)\n",
    "    elif b!=0:\n",
    "        p=-a/b\n",
    "        q=e/b\n",
    "        if p==p//1:\n",
    "            p=int(p)\n",
    "        if q==q//1:\n",
    "            q=int(q)\n",
    "        print('1',p,q)\n",
    "    elif d!=0:\n",
    "        p=-c/d\n",
    "        q=f/d\n",
    "        if p==p//1:\n",
    "            p=int(p)\n",
    "        if q==q//1:\n",
    "            q=int(q)\n",
    "        print('1',p,q)\n",
    "elif a*d==b*c and a*f!=c*e:\n",
    "    print('0')\n",
    "elif b==0 and d==0 and a*f!=c*e:\n",
    "    print('0')\n",
    "elif a==0 and c==0 and b*f!=d*e:\n",
    "    print('0')\n",
    "elif c==0 and d==0 and f!=0:\n",
    "    print('0')\n",
    "elif a==0 and b==0 and e!=0:\n",
    "    print('0')\n",
    "else:\n",
    "    x=(e*d-b*f)/(a*d-b*c)\n",
    "    y=(a*f-e*c)/(a*d-b*c)\n",
    "    if y==y//1:\n",
    "        y=int(y)\n",
    "    if x==x//1:\n",
    "        x=int(x)\n",
    "    print('2', x, y)"
   ]
  },
  {
   "cell_type": "markdown",
   "metadata": {},
   "source": [
    "## Задача 13"
   ]
  },
  {
   "cell_type": "code",
   "execution_count": 61,
   "metadata": {},
   "outputs": [
    {
     "name": "stdout",
     "output_type": "stream",
     "text": [
      "Abrakadabra\n",
      "r\n",
      "r\n",
      "Abrak\n",
      "Abrakadab\n",
      "Arkdba\n",
      "baaar\n",
      "arbadakarbA\n",
      "abdkrA\n",
      "11\n"
     ]
    }
   ],
   "source": [
    "s=str(input())\n",
    "print(s[2])\n",
    "print(s[-2])\n",
    "print(s[0:5])\n",
    "print(s[:-2])\n",
    "print(s[::2])\n",
    "print(s[1::2])\n",
    "print(s[::-1])\n",
    "print(s[-1::-2])\n",
    "print(len(s))"
   ]
  },
  {
   "cell_type": "markdown",
   "metadata": {},
   "source": [
    "## Задача 14"
   ]
  },
  {
   "cell_type": "code",
   "execution_count": 63,
   "metadata": {},
   "outputs": [
    {
     "name": "stdout",
     "output_type": "stream",
     "text": [
      "office\n",
      "1 2\n"
     ]
    }
   ],
   "source": [
    "s=str(input())\n",
    "count=len(s)-len(s.replace('f',''))\n",
    "if count==0:\n",
    "    pass\n",
    "elif count==1:\n",
    "    print(s.index('f'))\n",
    "else:\n",
    "    print(s.index('f'), s.rindex('f'))"
   ]
  },
  {
   "cell_type": "markdown",
   "metadata": {},
   "source": [
    "## Задача 15"
   ]
  },
  {
   "cell_type": "code",
   "execution_count": 67,
   "metadata": {},
   "outputs": [
    {
     "name": "stdout",
     "output_type": "stream",
     "text": [
      "In the hole in the ground there lived a hobbit\n",
      "In tobbit\n"
     ]
    }
   ],
   "source": [
    "s=str(input())\n",
    "s=s[:s.find('h')]+s[s.rfind('h')+1:]\n",
    "print(s)"
   ]
  },
  {
   "cell_type": "markdown",
   "metadata": {},
   "source": [
    "## Задача 16"
   ]
  },
  {
   "cell_type": "code",
   "execution_count": 69,
   "metadata": {},
   "outputs": [
    {
     "name": "stdout",
     "output_type": "stream",
     "text": [
      "In the hole in the ground there lived a hobbit\n",
      "In the hole in the ground there lived a e hole in the ground there lived a hobbit\n"
     ]
    }
   ],
   "source": [
    "s=str(input())\n",
    "s=s[:s.rfind('h')]+s[s.find('h')+1:s.rfind('h')]+s[s.rfind('h'):]\n",
    "print(s)"
   ]
  },
  {
   "cell_type": "markdown",
   "metadata": {},
   "source": [
    "## Задача 17"
   ]
  },
  {
   "cell_type": "code",
   "execution_count": 72,
   "metadata": {},
   "outputs": [
    {
     "name": "stdout",
     "output_type": "stream",
     "text": [
      "qwerty\n",
      "-2\n"
     ]
    }
   ],
   "source": [
    "s=input()\n",
    "count=0\n",
    "for i in range(len(s)):\n",
    "    if s[i]=='f':\n",
    "        count+=1\n",
    "        if count==2:\n",
    "            print(i)\n",
    "            \n",
    "if count==1:\n",
    "        print('-1')\n",
    "elif 'f' not in s:\n",
    "    print('-2')"
   ]
  },
  {
   "cell_type": "markdown",
   "metadata": {},
   "source": [
    "## Задача 18"
   ]
  },
  {
   "cell_type": "code",
   "execution_count": 77,
   "metadata": {},
   "outputs": [
    {
     "name": "stdout",
     "output_type": "stream",
     "text": [
      "Q WERRTYUIOP\n",
      "WERRTYUIOP Q\n"
     ]
    }
   ],
   "source": [
    "s=input()\n",
    "st=s.split(' ')\n",
    "s=st[1]+' '+st[0]\n",
    "print(s)"
   ]
  },
  {
   "cell_type": "markdown",
   "metadata": {},
   "source": [
    "## Задача 19"
   ]
  },
  {
   "cell_type": "code",
   "execution_count": 79,
   "metadata": {},
   "outputs": [
    {
     "name": "stdout",
     "output_type": "stream",
     "text": [
      "q w e\n",
      "3\n"
     ]
    }
   ],
   "source": [
    "s=input()\n",
    "st=s.split(' ')\n",
    "print(len(st))"
   ]
  },
  {
   "cell_type": "markdown",
   "metadata": {},
   "source": [
    "## Задача 20"
   ]
  },
  {
   "cell_type": "code",
   "execution_count": 3,
   "metadata": {},
   "outputs": [
    {
     "name": "stdout",
     "output_type": "stream",
     "text": [
      "1+1=2\n",
      "one+one=2\n"
     ]
    }
   ],
   "source": [
    "s=input()\n",
    "s=s.replace('1','one')\n",
    "print(s)"
   ]
  },
  {
   "cell_type": "markdown",
   "metadata": {},
   "source": [
    "## Задача 21"
   ]
  },
  {
   "cell_type": "code",
   "execution_count": 7,
   "metadata": {},
   "outputs": [
    {
     "name": "stdout",
     "output_type": "stream",
     "text": [
      "Bilbo.Bagginsbagend.hobbiton.shire.me\n",
      "Bilbo.Bagginsbagend.hobbiton.shire.me\n"
     ]
    }
   ],
   "source": [
    "s=input()\n",
    "s=s.replace('@','')\n",
    "print(s)"
   ]
  },
  {
   "cell_type": "markdown",
   "metadata": {},
   "source": [
    "## Задача 22"
   ]
  },
  {
   "cell_type": "code",
   "execution_count": 12,
   "metadata": {},
   "outputs": [
    {
     "name": "stdout",
     "output_type": "stream",
     "text": [
      "asdfghhzxcvb\n",
      "\n",
      "asdfghhzxcvb\n"
     ]
    }
   ],
   "source": [
    "s=input()\n",
    "st=s[s.find('h')+1:s.rfind('h'):]\n",
    "print(st)\n",
    "st=st.replace('h','H')\n",
    "s=s[:s.find('h')+1:]+st+s[s.rfind('h')::]\n",
    "print(s)"
   ]
  },
  {
   "cell_type": "markdown",
   "metadata": {},
   "source": [
    "## Задача 23"
   ]
  },
  {
   "cell_type": "code",
   "execution_count": 16,
   "metadata": {},
   "outputs": [
    {
     "name": "stdout",
     "output_type": "stream",
     "text": [
      "Hello\n",
      "H*e*l*l*o\n"
     ]
    }
   ],
   "source": [
    "s=input()\n",
    "i='*'\n",
    "print(i.join(list(s)))"
   ]
  },
  {
   "cell_type": "markdown",
   "metadata": {},
   "source": [
    "## Задача 24"
   ]
  },
  {
   "cell_type": "code",
   "execution_count": 19,
   "metadata": {},
   "outputs": [
    {
     "name": "stdout",
     "output_type": "stream",
     "text": [
      "qwer\n",
      "we\n"
     ]
    }
   ],
   "source": [
    "s=input()\n",
    "st=''\n",
    "for i in range(len(s)):\n",
    "    if i%3!=0:\n",
    "        st=st+s[i]\n",
    "print(st)"
   ]
  },
  {
   "cell_type": "code",
   "execution_count": null,
   "metadata": {},
   "outputs": [],
   "source": []
  }
 ],
 "metadata": {
  "kernelspec": {
   "display_name": "Python 3",
   "language": "python",
   "name": "python3"
  },
  "language_info": {
   "codemirror_mode": {
    "name": "ipython",
    "version": 3
   },
   "file_extension": ".py",
   "mimetype": "text/x-python",
   "name": "python",
   "nbconvert_exporter": "python",
   "pygments_lexer": "ipython3",
   "version": "3.7.6"
  }
 },
 "nbformat": 4,
 "nbformat_minor": 4
}
