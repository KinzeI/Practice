{
 "cells": [
  {
   "cell_type": "markdown",
   "metadata": {},
   "source": [
    "# Практическая работа 5"
   ]
  },
  {
   "cell_type": "markdown",
   "metadata": {},
   "source": [
    "## Задача 1"
   ]
  },
  {
   "cell_type": "code",
   "execution_count": 3,
   "metadata": {},
   "outputs": [
    {
     "name": "stdout",
     "output_type": "stream",
     "text": [
      "9\n",
      "1\n",
      "4\n",
      "9\n"
     ]
    }
   ],
   "source": [
    "N = int(input())\n",
    "i = 1\n",
    "while i**2 <= N:\n",
    "    print(i**2)\n",
    "    i += 1"
   ]
  },
  {
   "cell_type": "markdown",
   "metadata": {},
   "source": [
    "## Задача 2"
   ]
  },
  {
   "cell_type": "code",
   "execution_count": 3,
   "metadata": {},
   "outputs": [
    {
     "name": "stdout",
     "output_type": "stream",
     "text": [
      "3\n",
      "3\n"
     ]
    }
   ],
   "source": [
    "N = int(input())\n",
    "i = 2\n",
    "k = 0\n",
    "while k == 0:\n",
    "    if N%i == 0:\n",
    "        k = 1\n",
    "        print(i)\n",
    "    else:\n",
    "        i+=1"
   ]
  },
  {
   "cell_type": "markdown",
   "metadata": {},
   "source": [
    "## Задача 3"
   ]
  },
  {
   "cell_type": "code",
   "execution_count": 8,
   "metadata": {},
   "outputs": [
    {
     "name": "stdout",
     "output_type": "stream",
     "text": [
      "8\n",
      "1\n",
      "2\n",
      "4\n",
      "8\n"
     ]
    }
   ],
   "source": [
    "N = int(input())\n",
    "i = 1\n",
    "while N >= i:\n",
    "    print(i)\n",
    "    i*=2"
   ]
  },
  {
   "cell_type": "markdown",
   "metadata": {},
   "source": [
    "## Задача 4"
   ]
  },
  {
   "cell_type": "code",
   "execution_count": 3,
   "metadata": {},
   "outputs": [
    {
     "name": "stdout",
     "output_type": "stream",
     "text": [
      "3\n",
      "NO\n"
     ]
    }
   ],
   "source": [
    "N = int(input())\n",
    "i=1\n",
    "f=0\n",
    "while N>=i:\n",
    "    if N==i:\n",
    "        print('YES')\n",
    "        f=1\n",
    "        i*=2\n",
    "    else:\n",
    "        i*=2\n",
    "if f==0:\n",
    "    print('NO')"
   ]
  },
  {
   "cell_type": "markdown",
   "metadata": {},
   "source": [
    "## Задача 5"
   ]
  },
  {
   "cell_type": "code",
   "execution_count": 6,
   "metadata": {},
   "outputs": [
    {
     "name": "stdout",
     "output_type": "stream",
     "text": [
      "3\n",
      "2\n"
     ]
    }
   ],
   "source": [
    "N = int(input())\n",
    "k = 0\n",
    "p = 1\n",
    "while p < N:\n",
    "    p = p*2\n",
    "    k += 1\n",
    "print(k)"
   ]
  },
  {
   "cell_type": "markdown",
   "metadata": {},
   "source": [
    "## Задача 6"
   ]
  },
  {
   "cell_type": "code",
   "execution_count": 14,
   "metadata": {},
   "outputs": [
    {
     "name": "stdout",
     "output_type": "stream",
     "text": [
      "10\n",
      "100\n",
      "26\n"
     ]
    }
   ],
   "source": [
    "X,Y=int(input()),int(input())\n",
    "day=1\n",
    "while X<Y:\n",
    "    day+=1\n",
    "    X*=1.1\n",
    "print(day)"
   ]
  },
  {
   "cell_type": "markdown",
   "metadata": {},
   "source": [
    "## Задача 7"
   ]
  },
  {
   "cell_type": "code",
   "execution_count": 17,
   "metadata": {},
   "outputs": [
    {
     "name": "stdout",
     "output_type": "stream",
     "text": [
      "1\n",
      "2\n",
      "3\n",
      "0\n",
      "3\n"
     ]
    }
   ],
   "source": [
    "N = int(input())\n",
    "maxn=0\n",
    "while N!=0:\n",
    "    if N>maxn:\n",
    "        maxn=N\n",
    "    N = int(input())\n",
    "print(maxn)"
   ]
  },
  {
   "cell_type": "markdown",
   "metadata": {},
   "source": [
    "## Задача 8"
   ]
  },
  {
   "cell_type": "code",
   "execution_count": 20,
   "metadata": {},
   "outputs": [
    {
     "name": "stdout",
     "output_type": "stream",
     "text": [
      "3\n",
      "14\n"
     ]
    }
   ],
   "source": [
    "n = int(input())\n",
    "i=1\n",
    "s=0\n",
    "while i<=n:\n",
    "    s+=(i**2)\n",
    "    i+=1\n",
    "print(s)"
   ]
  },
  {
   "cell_type": "markdown",
   "metadata": {},
   "source": [
    "## Задача 9"
   ]
  },
  {
   "cell_type": "code",
   "execution_count": 25,
   "metadata": {},
   "outputs": [
    {
     "name": "stdout",
     "output_type": "stream",
     "text": [
      "1\n",
      "7\n",
      "9\n",
      "0\n",
      "3\n"
     ]
    }
   ],
   "source": [
    "N = int(input())\n",
    "count=0\n",
    "while N!=0:\n",
    "    count+=1\n",
    "    N = int(input())\n",
    "print(count)"
   ]
  },
  {
   "cell_type": "markdown",
   "metadata": {},
   "source": [
    "## Задача 10"
   ]
  },
  {
   "cell_type": "code",
   "execution_count": 26,
   "metadata": {},
   "outputs": [
    {
     "name": "stdout",
     "output_type": "stream",
     "text": [
      "34\n",
      "2345\n",
      "2345\n",
      "2345\n",
      "2345\n",
      "345\n",
      "3\n",
      "345\n",
      "3\n",
      "345\n",
      "1\n",
      "3\n",
      "424\n",
      "5\n",
      "453\n",
      "0\n",
      "11341\n"
     ]
    }
   ],
   "source": [
    "N=int(input())\n",
    "s=0\n",
    "while N!=0:\n",
    "    s+=N\n",
    "    N=int(input())\n",
    "print(s)"
   ]
  },
  {
   "cell_type": "markdown",
   "metadata": {},
   "source": [
    "## Задача 11"
   ]
  },
  {
   "cell_type": "code",
   "execution_count": 30,
   "metadata": {},
   "outputs": [
    {
     "name": "stdout",
     "output_type": "stream",
     "text": [
      "34\n",
      "2345\n",
      "2345\n",
      "2345\n",
      "2345\n",
      "345\n",
      "3\n",
      "345\n",
      "3\n",
      "345\n",
      "1\n",
      "3\n",
      "424\n",
      "5\n",
      "453\n",
      "0\n",
      "756.0666666666667\n"
     ]
    }
   ],
   "source": [
    "N=int(input())\n",
    "s=0\n",
    "count=0\n",
    "while N!=0:\n",
    "    s+=N\n",
    "    count+=1\n",
    "    N=int(input())\n",
    "s=s/count\n",
    "print(s)"
   ]
  },
  {
   "cell_type": "markdown",
   "metadata": {},
   "source": [
    "## Задача 12"
   ]
  },
  {
   "cell_type": "code",
   "execution_count": 32,
   "metadata": {},
   "outputs": [
    {
     "name": "stdout",
     "output_type": "stream",
     "text": [
      "1\n",
      "3\n",
      "5\n",
      "7\n",
      "9\n",
      "1\n",
      "3\n",
      "5\n",
      "7\n",
      "9\n",
      "0\n",
      "0\n"
     ]
    }
   ],
   "source": [
    "N=int(input())\n",
    "count=0\n",
    "while N!=0:\n",
    "    if N%2==0:\n",
    "        count+=1\n",
    "    N=int(input())\n",
    "print(count)"
   ]
  },
  {
   "cell_type": "markdown",
   "metadata": {},
   "source": [
    "## Задача 13"
   ]
  },
  {
   "cell_type": "code",
   "execution_count": 35,
   "metadata": {},
   "outputs": [
    {
     "name": "stdout",
     "output_type": "stream",
     "text": [
      "1\n",
      "2\n",
      "3\n",
      "4\n",
      "5\n",
      "0\n",
      "4\n"
     ]
    }
   ],
   "source": [
    "N=int(input())\n",
    "s=N\n",
    "count=0\n",
    "while N!=0:\n",
    "    if N>s:\n",
    "        count+=1\n",
    "    s=N\n",
    "    N=int(input())\n",
    "print(count)"
   ]
  },
  {
   "cell_type": "markdown",
   "metadata": {},
   "source": [
    "## Задача 14"
   ]
  },
  {
   "cell_type": "code",
   "execution_count": 41,
   "metadata": {},
   "outputs": [
    {
     "name": "stdout",
     "output_type": "stream",
     "text": [
      "1\n",
      "2\n",
      "2\n",
      "3\n",
      "3\n",
      "0\n",
      "3\n"
     ]
    }
   ],
   "source": [
    "max1=int(input())\n",
    "el=int(input())\n",
    "max2=el\n",
    "while el!=0:\n",
    "    if el>=max1:\n",
    "        (max2,max1)=(max1,el)\n",
    "    elif max2<el<=max1:\n",
    "        max2=el\n",
    "    el=int(input())\n",
    "print(max2)"
   ]
  },
  {
   "cell_type": "markdown",
   "metadata": {},
   "source": [
    "## Задача 15"
   ]
  },
  {
   "cell_type": "code",
   "execution_count": 6,
   "metadata": {},
   "outputs": [
    {
     "name": "stdout",
     "output_type": "stream",
     "text": [
      "1\n",
      "7\n",
      "9\n",
      "0\n",
      "1\n"
     ]
    }
   ],
   "source": [
    "el=int(input())\n",
    "max1=el\n",
    "count=0\n",
    "while el!=0:\n",
    "    if el==max1:\n",
    "        count+=1\n",
    "    if el>max1:\n",
    "        max1=el\n",
    "    el=int(input())\n",
    "print(count)"
   ]
  },
  {
   "cell_type": "markdown",
   "metadata": {},
   "source": [
    "## Задача 16"
   ]
  },
  {
   "cell_type": "code",
   "execution_count": 9,
   "metadata": {},
   "outputs": [
    {
     "name": "stdout",
     "output_type": "stream",
     "text": [
      "3\n",
      "2\n"
     ]
    }
   ],
   "source": [
    "F1=1\n",
    "F2=1\n",
    "n=int(input())\n",
    "i=0\n",
    "while i<n-2:\n",
    "    summ=F1+F2\n",
    "    F1=F2\n",
    "    F2=summ\n",
    "    i+=1\n",
    "print(F2)"
   ]
  },
  {
   "cell_type": "markdown",
   "metadata": {},
   "source": [
    "## Задача 17"
   ]
  },
  {
   "cell_type": "code",
   "execution_count": 16,
   "metadata": {},
   "outputs": [
    {
     "name": "stdout",
     "output_type": "stream",
     "text": [
      "13\n",
      "7\n"
     ]
    }
   ],
   "source": [
    "F1=1\n",
    "F2=1\n",
    "A=int(input())\n",
    "i=2\n",
    "summ=F1+F2\n",
    "while summ<A:\n",
    "    summ=F1+F2\n",
    "    F1=F2\n",
    "    F2=summ\n",
    "    i+=1\n",
    "if summ==A:\n",
    "    print(i)\n",
    "else:\n",
    "    print('-1')"
   ]
  },
  {
   "cell_type": "markdown",
   "metadata": {},
   "source": [
    "## Задача 18"
   ]
  },
  {
   "cell_type": "code",
   "execution_count": 20,
   "metadata": {},
   "outputs": [
    {
     "name": "stdout",
     "output_type": "stream",
     "text": [
      "1023\n",
      "1\n",
      "-1\n",
      ":2\n",
      "-1\n",
      ":2\n",
      "-1\n",
      ":2\n",
      "-1\n",
      ":2\n",
      "-1\n",
      ":2\n",
      "-1\n",
      ":2\n",
      "-1\n",
      ":2\n",
      "-1\n",
      ":2\n",
      "-1\n",
      ":2\n"
     ]
    }
   ],
   "source": [
    "A=int(input())\n",
    "B=int(input())\n",
    "while A!=B:\n",
    "    if A//2>=B and A%2==0:\n",
    "        print (':2')\n",
    "        A//=2\n",
    "    else:\n",
    "        print ('-1')\n",
    "        A-=1"
   ]
  },
  {
   "cell_type": "markdown",
   "metadata": {},
   "source": [
    "## Задача 19"
   ]
  },
  {
   "cell_type": "code",
   "execution_count": 25,
   "metadata": {},
   "outputs": [
    {
     "name": "stdout",
     "output_type": "stream",
     "text": [
      "874\n",
      "478\n"
     ]
    }
   ],
   "source": [
    "N=int(input())\n",
    "N2=0\n",
    "while N>0:\n",
    "    r=N%10\n",
    "    N//=10\n",
    "    N2*=10\n",
    "    N2+=r\n",
    "print(N2)"
   ]
  },
  {
   "cell_type": "markdown",
   "metadata": {},
   "source": [
    "## Задача 20"
   ]
  },
  {
   "cell_type": "code",
   "execution_count": 37,
   "metadata": {},
   "outputs": [
    {
     "name": "stdout",
     "output_type": "stream",
     "text": [
      "10\n",
      "9\n"
     ]
    }
   ],
   "source": [
    "K=int(input())\n",
    "N=1\n",
    "count=0\n",
    "while N<=K:\n",
    "    N2=0\n",
    "    pr=N\n",
    "    while pr>0:\n",
    "        r=pr%10\n",
    "        pr//=10\n",
    "        N2*=10\n",
    "        N2+=r\n",
    "    if N==N2:\n",
    "        count+=1\n",
    "    N+=1\n",
    "print(count)"
   ]
  },
  {
   "cell_type": "markdown",
   "metadata": {},
   "source": [
    "## Задача 21"
   ]
  },
  {
   "cell_type": "code",
   "execution_count": 46,
   "metadata": {},
   "outputs": [
    {
     "name": "stdout",
     "output_type": "stream",
     "text": [
      "4\n",
      "4\n",
      "4\n",
      "4\n",
      "4\n",
      "4\n",
      "4\n",
      "4\n",
      "4\n",
      "4\n",
      "4\n",
      "4\n",
      "4\n",
      "4\n",
      "4\n",
      "0\n",
      "15\n"
     ]
    }
   ],
   "source": [
    "N=int(input())\n",
    "prN=0\n",
    "count=1\n",
    "prcount=1\n",
    "while N>=0:\n",
    "    if N==prN:\n",
    "        count+=1\n",
    "    elif count>prcount:\n",
    "        prcount=count\n",
    "        count=1\n",
    "    if N==0:\n",
    "        break\n",
    "    prN=N\n",
    "    N=int(input())\n",
    "print(prcount)"
   ]
  },
  {
   "cell_type": "markdown",
   "metadata": {},
   "source": [
    "## Задача 22"
   ]
  },
  {
   "cell_type": "code",
   "execution_count": 52,
   "metadata": {},
   "outputs": [
    {
     "name": "stdout",
     "output_type": "stream",
     "text": [
      "4\n",
      "4\n",
      "4\n",
      "4\n",
      "4\n",
      "4\n",
      "4\n",
      "4\n",
      "4\n",
      "4\n",
      "4\n",
      "4\n",
      "4\n",
      "4\n",
      "4\n",
      "4\n",
      "0\n",
      "1\n"
     ]
    }
   ],
   "source": [
    "N=int(input())\n",
    "prN=0\n",
    "countA=1\n",
    "countB=1\n",
    "i=0\n",
    "while N>=0:\n",
    "    if N>prN and (i==1 or i==3) and N!=0:\n",
    "        countA+=1\n",
    "        i=1\n",
    "    elif N<prN and (i==2 or i==3) and N!=0:\n",
    "        countA+=1\n",
    "        i=2\n",
    "    else:\n",
    "        if countA>countB:\n",
    "            countB=countA\n",
    "        if N>prN:\n",
    "            i=1\n",
    "        elif N<prN:\n",
    "            i=2\n",
    "        else:\n",
    "            i=3\n",
    "        countA=1\n",
    "    if N==0:\n",
    "        break\n",
    "    prN=N\n",
    "    N=int(input())\n",
    "print(countB)"
   ]
  },
  {
   "cell_type": "markdown",
   "metadata": {},
   "source": [
    "## Задача 23"
   ]
  },
  {
   "cell_type": "code",
   "execution_count": 63,
   "metadata": {},
   "outputs": [
    {
     "name": "stdout",
     "output_type": "stream",
     "text": [
      "1\n",
      "2\n",
      "1\n",
      "2\n",
      "1\n",
      "0\n",
      "2\n"
     ]
    }
   ],
   "source": [
    "max1=0\n",
    "max2=0\n",
    "i=0\n",
    "N1=1\n",
    "N2=0\n",
    "N3=0\n",
    "l=999999\n",
    "while N1!=0:\n",
    "    i+=1\n",
    "    N3=N2\n",
    "    N2=N1\n",
    "    N1=int(input())\n",
    "    if i>2 and N2>N1 and N2>N3 and N1!=0:\n",
    "        max2=max1\n",
    "        max1=i\n",
    "        if max1>0 and max2>0 and max1-max2<l:\n",
    "            l=max1-max2\n",
    "if l==999999:\n",
    "    l=0\n",
    "print(l)"
   ]
  },
  {
   "cell_type": "markdown",
   "metadata": {},
   "source": [
    "## Задача 24"
   ]
  },
  {
   "cell_type": "code",
   "execution_count": 68,
   "metadata": {},
   "outputs": [
    {
     "name": "stdout",
     "output_type": "stream",
     "text": [
      "5\n",
      "12\n",
      "13\n",
      "30.0\n"
     ]
    }
   ],
   "source": [
    "a=int(input())\n",
    "b=int(input())\n",
    "c=int(input())\n",
    "p=(a+b+c)/2\n",
    "s=(p*(p-a)*(p-b)*(p-c))\n",
    "if s<0:\n",
    "    s*=-1\n",
    "print(s**.5)"
   ]
  },
  {
   "cell_type": "code",
   "execution_count": null,
   "metadata": {},
   "outputs": [],
   "source": []
  }
 ],
 "metadata": {
  "kernelspec": {
   "display_name": "Python 3",
   "language": "python",
   "name": "python3"
  },
  "language_info": {
   "codemirror_mode": {
    "name": "ipython",
    "version": 3
   },
   "file_extension": ".py",
   "mimetype": "text/x-python",
   "name": "python",
   "nbconvert_exporter": "python",
   "pygments_lexer": "ipython3",
   "version": "3.7.6"
  }
 },
 "nbformat": 4,
 "nbformat_minor": 4
}
