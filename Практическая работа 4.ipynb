{
 "cells": [
  {
   "cell_type": "markdown",
   "metadata": {},
   "source": [
    "## Практическое задание 4"
   ]
  },
  {
   "cell_type": "markdown",
   "metadata": {},
   "source": [
    "### Задача 1"
   ]
  },
  {
   "cell_type": "code",
   "execution_count": 1,
   "metadata": {},
   "outputs": [
    {
     "name": "stdout",
     "output_type": "stream",
     "text": [
      "8\n",
      "5\n",
      "8\n"
     ]
    }
   ],
   "source": [
    "A=int(input())\n",
    "B=int(input())\n",
    "\n",
    "if A>=B:\n",
    "    print(A)\n",
    "else:\n",
    "    print(B)"
   ]
  },
  {
   "cell_type": "markdown",
   "metadata": {},
   "source": [
    "### Задача 2"
   ]
  },
  {
   "cell_type": "code",
   "execution_count": 2,
   "metadata": {},
   "outputs": [
    {
     "name": "stdout",
     "output_type": "stream",
     "text": [
      "1\n",
      "2\n",
      "2\n"
     ]
    }
   ],
   "source": [
    "A=int(input())\n",
    "B=int(input())\n",
    "\n",
    "if A>B:\n",
    "    print('1')\n",
    "elif A<B:\n",
    "    print('2')\n",
    "else:\n",
    "    print('0')"
   ]
  },
  {
   "cell_type": "markdown",
   "metadata": {},
   "source": [
    "### Задача 3"
   ]
  },
  {
   "cell_type": "code",
   "execution_count": 4,
   "metadata": {},
   "outputs": [
    {
     "name": "stdout",
     "output_type": "stream",
     "text": [
      "1\n",
      "2\n",
      "3\n",
      "3\n"
     ]
    }
   ],
   "source": [
    "A=int(input())\n",
    "B=int(input())\n",
    "C=int(input())\n",
    "\n",
    "if A>=B and A>=C:\n",
    "    print(A)\n",
    "elif B>=A and A>=C:\n",
    "    print(B)\n",
    "else:\n",
    "    print(C)"
   ]
  },
  {
   "cell_type": "markdown",
   "metadata": {},
   "source": [
    "### Задача 4"
   ]
  },
  {
   "cell_type": "code",
   "execution_count": 5,
   "metadata": {},
   "outputs": [
    {
     "name": "stdout",
     "output_type": "stream",
     "text": [
      "4\n",
      "YES\n"
     ]
    }
   ],
   "source": [
    "N=int(input())\n",
    "\n",
    "if N%4!=0:\n",
    "    print('NO')\n",
    "elif N%100==0:\n",
    "    if N%400==0:\n",
    "        print('YES')\n",
    "    else:\n",
    "        print('NO')\n",
    "else:\n",
    "    print('YES')"
   ]
  },
  {
   "cell_type": "markdown",
   "metadata": {},
   "source": [
    "### Задача 5"
   ]
  },
  {
   "cell_type": "code",
   "execution_count": 17,
   "metadata": {},
   "outputs": [
    {
     "name": "stdout",
     "output_type": "stream",
     "text": [
      "4\n",
      "4\n",
      "5\n",
      "5\n",
      "YES\n"
     ]
    }
   ],
   "source": [
    "l1=int(input())\n",
    "c1=int(input())\n",
    "l2=int(input())\n",
    "c2=int(input())\n",
    "\n",
    "if (l1+1==l2 or l1-1==l2 or l1==l2) and (c1+1==c2 or c1-1==c2 or c1==c2) and not(l1==l2 and c1==c2):\n",
    "    print('YES')\n",
    "else:\n",
    "    print('NO')"
   ]
  },
  {
   "cell_type": "markdown",
   "metadata": {},
   "source": [
    "### Задача 6"
   ]
  },
  {
   "cell_type": "code",
   "execution_count": 18,
   "metadata": {},
   "outputs": [
    {
     "name": "stdout",
     "output_type": "stream",
     "text": [
      "2\n",
      "10\n",
      "NO\n"
     ]
    }
   ],
   "source": [
    "x=int(input())\n",
    "y=int(input())\n",
    "\n",
    "if (x-1)%(y-(x-1))==0:\n",
    "    print('YES')\n",
    "else:\n",
    "    print('NO')"
   ]
  },
  {
   "cell_type": "markdown",
   "metadata": {},
   "source": [
    "### Задача 7"
   ]
  },
  {
   "cell_type": "code",
   "execution_count": 20,
   "metadata": {},
   "outputs": [
    {
     "name": "stdout",
     "output_type": "stream",
     "text": [
      "1\n",
      "1\n",
      "2\n",
      "3\n",
      "NO\n"
     ]
    }
   ],
   "source": [
    "l1=int(input())\n",
    "c1=int(input())\n",
    "l2=int(input())\n",
    "c2=int(input())\n",
    "\n",
    "if (l1+c1+l2+c2)%2==0:\n",
    "    print('YES')\n",
    "else:\n",
    "    print('NO')"
   ]
  },
  {
   "cell_type": "markdown",
   "metadata": {},
   "source": [
    "### Задача 8"
   ]
  },
  {
   "cell_type": "code",
   "execution_count": 22,
   "metadata": {},
   "outputs": [
    {
     "name": "stdout",
     "output_type": "stream",
     "text": [
      "2\n",
      "10\n",
      "7\n",
      "NO\n"
     ]
    }
   ],
   "source": [
    "n=int(input())\n",
    "m=int(input())\n",
    "k=int(input())\n",
    "\n",
    "if k%n==0 or k%m==0:\n",
    "    print('YES')\n",
    "else:\n",
    "    print('NO')"
   ]
  },
  {
   "cell_type": "markdown",
   "metadata": {},
   "source": [
    "### Задача 9"
   ]
  },
  {
   "cell_type": "code",
   "execution_count": 25,
   "metadata": {},
   "outputs": [
    {
     "name": "stdout",
     "output_type": "stream",
     "text": [
      "1\n",
      "На лугу пасется 1 корова\n"
     ]
    }
   ],
   "source": [
    "n=int(input())\n",
    "t='На лугу пасется'\n",
    "\n",
    "if n>=11 and n<=14:\n",
    "    print(t,n,'коров')\n",
    "else:\n",
    "    i=n%10\n",
    "    if i==0 or (i>=5 and i<=9):\n",
    "        print(t,n,'коров')\n",
    "    if i==1:\n",
    "        print(t,n,'корова')\n",
    "    if i>=2 and i<=4:\n",
    "        print(t,n,'коровы')"
   ]
  },
  {
   "cell_type": "markdown",
   "metadata": {},
   "source": [
    "### Задача 10"
   ]
  },
  {
   "cell_type": "code",
   "execution_count": 26,
   "metadata": {},
   "outputs": [
    {
     "name": "stdout",
     "output_type": "stream",
     "text": [
      "3\n",
      "1\n"
     ]
    }
   ],
   "source": [
    "x=int(input())\n",
    "\n",
    "if x>0:\n",
    "    print('1')\n",
    "elif x<0:\n",
    "    print('-1')\n",
    "else:\n",
    "    print('0')"
   ]
  },
  {
   "cell_type": "markdown",
   "metadata": {},
   "source": [
    "### Задача 11"
   ]
  },
  {
   "cell_type": "code",
   "execution_count": 27,
   "metadata": {},
   "outputs": [
    {
     "name": "stdout",
     "output_type": "stream",
     "text": [
      "3\n",
      "3\n",
      "5\n",
      "1\n",
      "YES\n"
     ]
    }
   ],
   "source": [
    "x1=int(input())\n",
    "y1=int(input())\n",
    "x2=int(input())\n",
    "y2=int(input())\n",
    "\n",
    "if (y1>0 and y2>0) or (y1<0 and y2<0):\n",
    "    if (x1>0 and x2>0) or (x1<0 and x2<0):\n",
    "        print('YES')\n",
    "    else:\n",
    "        print('NO')\n",
    "else:\n",
    "    print('NO')"
   ]
  },
  {
   "cell_type": "markdown",
   "metadata": {},
   "source": [
    "### Задача 12"
   ]
  },
  {
   "cell_type": "code",
   "execution_count": 30,
   "metadata": {},
   "outputs": [
    {
     "name": "stdout",
     "output_type": "stream",
     "text": [
      "2\n",
      "2\n",
      "1\n",
      "1\n",
      "NO\n"
     ]
    }
   ],
   "source": [
    "x1=int(input())\n",
    "y1=int(input())\n",
    "x2=int(input())\n",
    "y2=int(input())\n",
    "\n",
    "if y2<=y1 or (x1+y1)%2!=(x2+y2)%2:\n",
    "    print('NO')\n",
    "elif x1-(y2-y1)<=x2 and x1+(y2-y1)>=x2:\n",
    "    print('YES')\n",
    "else:\n",
    "    print('NO')"
   ]
  },
  {
   "cell_type": "markdown",
   "metadata": {},
   "source": [
    "### Задача 13"
   ]
  },
  {
   "cell_type": "code",
   "execution_count": 34,
   "metadata": {},
   "outputs": [
    {
     "name": "stdout",
     "output_type": "stream",
     "text": [
      "3\n",
      "5\n",
      "4\n",
      "rectangular\n"
     ]
    }
   ],
   "source": [
    "a1=int(input())\n",
    "a2=int(input())\n",
    "a3=int(input())\n",
    "\n",
    "if a1>=a2 and a1>=a3:\n",
    "    maxa=a1\n",
    "    oth1=a2\n",
    "    oth2=a3\n",
    "elif a2>=a1 and a2>=a3:\n",
    "    maxa=a2\n",
    "    oth1=a1\n",
    "    oth2=a3\n",
    "else:\n",
    "    maxa=a3\n",
    "    oth1=a1\n",
    "    oth2=a2\n",
    "    \n",
    "if (maxa**2)==(oth1**2+oth2**2):\n",
    "    print('rectangular')\n",
    "elif maxa<oth1+oth2:\n",
    "    print('obtuse')\n",
    "else:\n",
    "    print('impossible')"
   ]
  },
  {
   "cell_type": "markdown",
   "metadata": {},
   "source": [
    "### Задача 14"
   ]
  },
  {
   "cell_type": "code",
   "execution_count": 37,
   "metadata": {},
   "outputs": [
    {
     "name": "stdout",
     "output_type": "stream",
     "text": [
      "7\n",
      "7\n",
      "7\n",
      "NO\n"
     ]
    }
   ],
   "source": [
    "A=int(input())\n",
    "B=int(input())\n",
    "C=int(input())\n",
    "if A%2==0 or B%2==0 or C%2==0:\n",
    "    if A%2!=0 or B%2!=0 or C%2!=0:\n",
    "        print('YES')\n",
    "    else:\n",
    "        print('NO')\n",
    "else:\n",
    "    print('NO')"
   ]
  },
  {
   "cell_type": "markdown",
   "metadata": {},
   "source": [
    "### Задача 15"
   ]
  },
  {
   "cell_type": "code",
   "execution_count": 42,
   "metadata": {},
   "outputs": [
    {
     "name": "stdout",
     "output_type": "stream",
     "text": [
      "3\n",
      "2\n",
      "1\n",
      "1 2 3\n"
     ]
    }
   ],
   "source": [
    "a,b,c=int(input()),int(input()),int(input())\n",
    "if a>=b and a>=c:\n",
    "    if b>=c:\n",
    "        (a,c)=(c,a)\n",
    "    else:\n",
    "        (a,c)=(c,a)\n",
    "        (b,a)=(a,b)\n",
    "elif b>=a and b>=c:\n",
    "    if c>=a:\n",
    "        (b,c)=(c,b)\n",
    "    else:\n",
    "        (b,c)=(c,b)\n",
    "        (a,b)=(b,a)\n",
    "elif b<=a:\n",
    "    (a,b)=(b,a)\n",
    "print(a,b,c)"
   ]
  },
  {
   "cell_type": "markdown",
   "metadata": {},
   "source": [
    "### Задача 16"
   ]
  },
  {
   "cell_type": "code",
   "execution_count": 43,
   "metadata": {},
   "outputs": [
    {
     "name": "stdout",
     "output_type": "stream",
     "text": [
      "1\n",
      "2\n",
      "3\n",
      "0\n"
     ]
    }
   ],
   "source": [
    "a,b,c=int(input()),int(input()),int(input())\n",
    "count=0\n",
    "if a==b==c:\n",
    "    print('3')\n",
    "elif a==b or b==c or a==c:\n",
    "    print('2')\n",
    "else:\n",
    "    print('0')\n",
    "    "
   ]
  },
  {
   "cell_type": "markdown",
   "metadata": {},
   "source": [
    "### Задача 17"
   ]
  },
  {
   "cell_type": "code",
   "execution_count": 46,
   "metadata": {},
   "outputs": [
    {
     "name": "stdout",
     "output_type": "stream",
     "text": [
      "2\n",
      "2\n",
      "2\n",
      "1\n",
      "1\n",
      "NO\n"
     ]
    }
   ],
   "source": [
    "A,B,C,D,E=int(input()),int(input()),int(input()),int(input()),int(input())\n",
    "if (A<=D and B<=E) or (A<=E and B<=D):\n",
    "    print('YES')\n",
    "elif (A<=D and C<=E) or (A<=E and C<=D):\n",
    "    print('YES')\n",
    "elif (C<=D and B<=E) or (C<=E and B<=D):\n",
    "    print('YES')\n",
    "else:\n",
    "    print('NO')"
   ]
  },
  {
   "cell_type": "markdown",
   "metadata": {},
   "source": [
    "### Задача 18"
   ]
  },
  {
   "cell_type": "code",
   "execution_count": 50,
   "metadata": {},
   "outputs": [
    {
     "name": "stdout",
     "output_type": "stream",
     "text": [
      "2\n",
      "2\n",
      "3\n",
      "3\n",
      "2\n",
      "1\n",
      "The first box is larger than the second one\n"
     ]
    }
   ],
   "source": [
    "A1,B1,C1,A2,B2,C2=int(input()),int(input()),int(input()),int(input()),int(input()),int(input())\n",
    "if A1>=B1 and B1>=C1:\n",
    "    S1=A1\n",
    "    S2=B1\n",
    "    S3=C1\n",
    "elif A1>=B1 and C1>=A1:\n",
    "    S1=C1\n",
    "    S2=A1\n",
    "    S3=B1\n",
    "elif A1>=C1 and C1>=B1:\n",
    "    S1=A1\n",
    "    S2=C1\n",
    "    S3=B1\n",
    "elif B1>=A1 and B1>=C1:\n",
    "    S1=B1\n",
    "    S2=A1\n",
    "    S3=C1\n",
    "elif B1>=C1 and C1>A1:\n",
    "    S1=B1\n",
    "    S2=C1\n",
    "    S3=A1\n",
    "elif C1>A1 and B1>A1:\n",
    "    S1=C1\n",
    "    S2=B1\n",
    "    S3=A1\n",
    "    \n",
    "if A2>=B2 and B2>=C2:\n",
    "    W1=A2\n",
    "    W2=B2\n",
    "    W3=C2\n",
    "elif A2>=B2 and C2>A2:\n",
    "    W1=C2\n",
    "    W2=A2\n",
    "    W3=B2\n",
    "elif A2>=C2 and C2>B2:\n",
    "    W1=A2\n",
    "    W2=C2\n",
    "    W3=B2\n",
    "elif B2>A2 and A2>=C2:\n",
    "    W1=B2\n",
    "    W2=A2\n",
    "    W3=C2\n",
    "elif B2>=C2 and C2>A2:\n",
    "    W1=B2\n",
    "    W2=C2\n",
    "    W3=A2\n",
    "elif C2>A2 and B2>A2:\n",
    "    W1=C2\n",
    "    W2=B2\n",
    "    W3=A2\n",
    "    \n",
    "if S1==W1 and S2==W2 and S3==W3:\n",
    "    print(\"Boxes are equal\")\n",
    "elif S1>=W1 and S2>=W2 and S3>=W3:\n",
    "    print(\"The first box is larger than the second one\")\n",
    "elif W1>S1 and W2>S2 and W3>S3:\n",
    "    print(\"The first box is smaller than the second one\")\n",
    "else:\n",
    "    print(\"Boxes are incomparable\")"
   ]
  },
  {
   "cell_type": "markdown",
   "metadata": {},
   "source": [
    "### Задача 19"
   ]
  },
  {
   "cell_type": "code",
   "execution_count": 57,
   "metadata": {},
   "outputs": [
    {
     "name": "stdout",
     "output_type": "stream",
     "text": [
      "7\n",
      "7\n",
      "7\n",
      "3\n",
      "3\n",
      "3\n",
      "8\n"
     ]
    }
   ],
   "source": [
    "a,b,c=int(input()),int(input()),int(input())\n",
    "d,e,f=int(input()),int(input()),int(input())\n",
    "res=0\n",
    "i=0\n",
    "i=(a//d)*(b//e)*(c//f)\n",
    "if i>res:\n",
    "    res=i\n",
    "i=(a//d)*(b//f)*(c//e)\n",
    "if i>res:\n",
    "    res=i\n",
    "i=(a//e)*(b//d)*(c//f)\n",
    "if i>res:\n",
    "    res=i\n",
    "i=(a//e)*(b//f)*(c//d)\n",
    "if i>res:\n",
    "    res=i\n",
    "i=(a//f)*(b//d)*(c//e)\n",
    "if i>res:\n",
    "    res=i\n",
    "i=(a//f)*(b//e)*(c//d)\n",
    "if i>res:\n",
    "    res=i\n",
    "print(res)"
   ]
  },
  {
   "cell_type": "markdown",
   "metadata": {},
   "source": [
    "### Задача 20"
   ]
  },
  {
   "cell_type": "code",
   "execution_count": 66,
   "metadata": {},
   "outputs": [
    {
     "name": "stdout",
     "output_type": "stream",
     "text": [
      "3\n",
      "YES\n"
     ]
    }
   ],
   "source": [
    "k=int(input())\n",
    "if k%5==0 or k%3==0 or (k>7):\n",
    "    print('YES')\n",
    "else:\n",
    "    print('NO')"
   ]
  },
  {
   "cell_type": "markdown",
   "metadata": {},
   "source": [
    "### Задача 21"
   ]
  },
  {
   "cell_type": "code",
   "execution_count": 63,
   "metadata": {},
   "outputs": [
    {
     "name": "stdout",
     "output_type": "stream",
     "text": [
      "2\n",
      "-4\n",
      "7\n",
      "1\n",
      "2\n"
     ]
    }
   ],
   "source": [
    "a,b,c,d=int(input()),int(input()),int(input()),int(input())\n",
    "if a==0 and b==0:\n",
    "    print('INF')\n",
    "elif a==0 or b/a==d/c:\n",
    "    print('NO')\n",
    "else:\n",
    "    print(int(-b/a))"
   ]
  },
  {
   "cell_type": "markdown",
   "metadata": {},
   "source": [
    "### Задача 22"
   ]
  },
  {
   "cell_type": "code",
   "execution_count": 71,
   "metadata": {},
   "outputs": [
    {
     "name": "stdout",
     "output_type": "stream",
     "text": [
      "1\n",
      "2\n",
      "5\n",
      "20\n"
     ]
    }
   ],
   "source": [
    "k,m,n=int(input()),int(input()),int(input())\n",
    "if n<=k:\n",
    "    print(int(2*m))\n",
    "elif (2*n)%k==0:\n",
    "    print(int(m*((2*n)//k)))\n",
    "else:\n",
    "    print(int(m*((n*2)//k+1)))"
   ]
  },
  {
   "cell_type": "markdown",
   "metadata": {},
   "source": [
    "### Задача 23"
   ]
  },
  {
   "cell_type": "code",
   "execution_count": 3,
   "metadata": {},
   "outputs": [
    {
     "name": "stdout",
     "output_type": "stream",
     "text": [
      "0\n",
      "2\n",
      "4\n",
      "5\n",
      "3\n",
      "6\n",
      "1\n"
     ]
    }
   ],
   "source": [
    "l1,r1=int(input()),int(input())\n",
    "l2,r2=int(input()),int(input())\n",
    "l3,r3=int(input()),int(input())\n",
    "if (l1 >= 0) and (l1 < r1) and (r1 <= 100) and \\\n",
    "        (l2 >= 0) and (l2 < r2) and (r2 <= 100) and \\\n",
    "        (l3 >= 0) and (l3 < r3) and (r3 <= 100):\n",
    "    if ((l2 - r1) <= 1) and ((l3-r2) > 1) and (l1 < l2) and \\\n",
    "            (l2 < r3) and (l1 < r3):\n",
    "        print('3')\n",
    "    elif ((l2-r1) > 1) and ((l3-r2) > 1) and (l2-r1) <= (r3-l3):\n",
    "        print('3')\n",
    "    elif ((l2-r1) > 1) and ((l3-r2) <= 1):\n",
    "        print('1')\n",
    "    elif ((l2-r1) <= 1) and (((l3-r2) <= 1) or ((l3-r1) <= 1)):\n",
    "        print('0')\n",
    "    else:\n",
    "        print('-1')\n",
    "else:\n",
    "    print('-1')"
   ]
  },
  {
   "cell_type": "markdown",
   "metadata": {},
   "source": [
    "### Задача 24"
   ]
  },
  {
   "cell_type": "code",
   "execution_count": 2,
   "metadata": {},
   "outputs": [
    {
     "name": "stdout",
     "output_type": "stream",
     "text": [
      "2\n",
      "2\n",
      "3\n",
      "3\n",
      "3\n",
      "3\n",
      "3\n",
      "5\n",
      "3\n",
      "YES\n"
     ]
    }
   ],
   "source": [
    "l1,w1,h1=int(input()),int(input()),int(input())\n",
    "l2,w2,h2=int(input()),int(input()),int(input())\n",
    "lc,wc,hc=int(input()),int(input()),int(input())\n",
    "i=1\n",
    "lenght=l1\n",
    "if l1<w1:\n",
    "    l1=w1\n",
    "    w1=lenght\n",
    "# l1 = max(l1, w1)\n",
    "# w1 = min(l, w1)\n",
    "lenght=l2\n",
    "if l2<w2:\n",
    "    l2=w2\n",
    "    w2=lenght\n",
    "# l2 = max(l2, w2)\n",
    "# w2 = min(l, w2)\n",
    "lenght=lc\n",
    "if lc<=wc:\n",
    "    lc=wc\n",
    "    wc=lenght\n",
    "# lc = max(lc, wc)\n",
    "# wc = min(l, wc)\n",
    "if l1<=lc and w1<=wc and l2<=lc and w2<=wc:\n",
    "    if h1>hc or h2>hc:\n",
    "        print(\"NO\")\n",
    "        i=0\n",
    "    if i==1 and l1<=lc and w1<=wc:\n",
    "        if i==1 and l2<=wc-w1 and w2<=lc:\n",
    "            print(\"YES\")\n",
    "            i=0\n",
    "        elif i==1 and w2<=wc-w1 and l2<=lc:\n",
    "            print(\"YES\")\n",
    "            i=0\n",
    "        elif i==1 and l2<=lc-l1 and w2<=wc:\n",
    "            print(\"YES\")\n",
    "            i=0\n",
    "        elif i==1 and w2<=lc-l1 and l2<=wc:\n",
    "            print(\"YES\")\n",
    "            i=0\n",
    "    if i==1 and w1<=lc and l1<=wc:\n",
    "        if i==1 and l2<=wc-l1 and w2<=lc:\n",
    "            print(\"YES\")\n",
    "            i=0\n",
    "        elif i==1 and l2<=lc and w2<=wc-l1:\n",
    "            print(\"YES\")\n",
    "            i=0\n",
    "        elif i==1 and l2<=lc-w1 and w2<=wc:\n",
    "            print(\"YES\")\n",
    "            i=0\n",
    "        elif i==1 and w2<=lc-w1 and l2<=wc:\n",
    "            print(\"YES\")\n",
    "            i=0\n",
    "    if i==1 and h1+h2<=hc and l1<=lc and w1<=wc and l2<=lc and w2<=wc:\n",
    "        print(\"YES\")\n",
    "        i=0\n",
    "    elif i==1:\n",
    "        print(\"NO\")\n",
    "else:\n",
    "    print(\"NO\")"
   ]
  },
  {
   "cell_type": "markdown",
   "metadata": {},
   "source": []
  },
  {
   "cell_type": "code",
   "execution_count": null,
   "metadata": {},
   "outputs": [],
   "source": []
  }
 ],
 "metadata": {
  "kernelspec": {
   "display_name": "Python 3",
   "language": "python",
   "name": "python3"
  },
  "language_info": {
   "codemirror_mode": {
    "name": "ipython",
    "version": 3
   },
   "file_extension": ".py",
   "mimetype": "text/x-python",
   "name": "python",
   "nbconvert_exporter": "python",
   "pygments_lexer": "ipython3",
   "version": "3.7.6"
  }
 },
 "nbformat": 4,
 "nbformat_minor": 4
}
